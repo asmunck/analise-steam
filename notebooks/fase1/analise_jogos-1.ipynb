{
 "cells": [
  {
   "cell_type": "markdown",
   "metadata": {},
   "source": [
    "# Análise de Dados de Jogos da Steam\n",
    "\n",
    "Este notebook apresenta uma análise dos dados de jogos da plataforma Steam, respondendo a perguntas específicas sobre o mercado de jogos digitais. As análises são realizadas utilizando a biblioteca desenvolvida como parte do projeto de Programação para Dados.\n",
    "\n",
    "## Importando os módulos necessários"
   ]
  },
  {
   "cell_type": "code",
   "execution_count": 1,
   "metadata": {},
   "outputs": [],
   "source": [
    "from analisador_jogos import AnalisadorJogos\n",
    "import os\n",
    "import csv\n",
    "from typing import Dict, List"
   ]
  },
  {
   "cell_type": "markdown",
   "metadata": {},
   "source": [
    "## Carregando os dados\n",
    "\n",
    "Primeiro, vamos carregar os dados do arquivo CSV principal com informações sobre jogos da plataforma Steam. Caso o arquivo não exista, exibiremos uma mensagem apropriada."
   ]
  },
  {
   "cell_type": "code",
   "execution_count": 2,
   "metadata": {},
   "outputs": [
    {
     "name": "stdout",
     "output_type": "stream",
     "text": [
      "Carregando dados de steam_games.csv...\n",
      "Dados carregados com sucesso! Total de jogos: 72934\n"
     ]
    }
   ],
   "source": [
    "# Caminho para o arquivo com os dados completos\n",
    "arquivo_dados = 'steam_games.csv'\n",
    "\n",
    "# Verifica se o arquivo existe\n",
    "if os.path.exists(arquivo_dados):\n",
    "    print(f\"Carregando dados de {arquivo_dados}...\")\n",
    "    analisador = AnalisadorJogos(arquivo_dados)\n",
    "    print(f\"Dados carregados com sucesso! Total de jogos: {len(analisador.dados.jogos)}\")\n",
    "else:\n",
    "    print(f\"Erro: O arquivo {arquivo_dados} não foi encontrado.\")\n",
    "    print(\"Por favor, verifique se o arquivo está no diretório correto.\")"
   ]
  },
  {
   "cell_type": "markdown",
   "metadata": {},
   "source": [
    "## Pergunta 1: Qual o percentual de jogos gratuitos e pagos na plataforma?\n",
    "\n",
    "Esta análise nos permite entender a distribuição de jogos gratuitos versus pagos na plataforma Steam, o que é fundamental para compreender as tendências de monetização no mercado de jogos digitais."
   ]
  },
  {
   "cell_type": "code",
   "execution_count": 3,
   "metadata": {},
   "outputs": [
    {
     "name": "stdout",
     "output_type": "stream",
     "text": [
      "Jogos gratuitos: 17.39%\n",
      "Jogos pagos: 82.61%\n"
     ]
    }
   ],
   "source": [
    "# Realiza a análise\n",
    "percentual = analisador.analisar_gratuitos_vs_pagos()\n",
    "\n",
    "# Exibe os resultados\n",
    "print(f\"Jogos gratuitos: {percentual['gratuitos']:.2f}%\")\n",
    "print(f\"Jogos pagos: {percentual['pagos']:.2f}%\")"
   ]
  },
  {
   "cell_type": "markdown",
   "metadata": {},
   "source": [
    "### Análise dos Resultados\n",
    "\n",
    "Os resultados mostram que **82.61%** dos jogos na plataforma Steam são gratuitos, enquanto **17.39%** são pagos. \n",
    "\n",
    "Esta distribuição reflete o cenário atual do mercado de jogos digitais, onde diferentes modelos de monetização coexistem. Os jogos gratuitos geralmente adotam estratégias alternativas de receita, como microtransações, conteúdo adicional pago (DLC) ou passes de temporada.\n",
    "\n",
    "Por outro lado, os jogos pagos mantêm o modelo tradicional de venda única, embora muitos também incorporem elementos de monetização contínua para estender o ciclo de vida e a lucratividade do produto.\n",
    "\n",
    "Esta informação é particularmente valiosa para desenvolvedores que estão planejando lançar novos títulos e precisam decidir qual modelo de monetização adotar, considerando as tendências do mercado e as expectativas dos jogadores."
   ]
  },
  {
   "cell_type": "markdown",
   "metadata": {},
   "source": [
    "## Pergunta 2: Qual o ano com o maior número de novos jogos?\n",
    "\n",
    "Esta análise identifica tendências temporais no lançamento de jogos, o que pode revelar períodos de crescimento ou saturação do mercado."
   ]
  },
  {
   "cell_type": "code",
   "execution_count": 5,
   "metadata": {},
   "outputs": [
    {
     "name": "stdout",
     "output_type": "stream",
     "text": [
      "Ano com mais lançamentos: 2022\n",
      "Número de lançamentos: 13961\n"
     ]
    }
   ],
   "source": [
    "# Realiza a análise\n",
    "anos, lancamentos = analisador.analisar_ano_com_mais_lancamentos()\n",
    "\n",
    "# Exibe os resultados\n",
    "if isinstance(anos, list):\n",
    "    anos_str = \", \".join(str(ano) for ano in anos)\n",
    "    print(f\"Anos com mais lançamentos (empate): {anos_str}\")\n",
    "else:\n",
    "    print(f\"Ano com mais lançamentos: {anos}\")\n",
    "\n",
    "print(f\"Número de lançamentos: {lancamentos}\")"
   ]
  },
  {
   "cell_type": "markdown",
   "metadata": {},
   "source": [
    "### Análise dos Resultados\n",
    "\n",
    "A análise revela que o ano **2022** foi o período com maior número de lançamentos de jogos na plataforma Steam, com **13.961** novos títulos.\n",
    "\n",
    "Este pico no número de lançamentos pode estar relacionado a diversos fatores:\n",
    "\n",
    "1. **Mudanças nas políticas da plataforma**: Alterações nos processos de aprovação ou taxas de publicação da Steam podem ter facilitado a entrada de novos jogos.\n",
    "\n",
    "2. **Avanços tecnológicos**: Ferramentas de desenvolvimento mais acessíveis como Unity e Unreal Engine podem ter reduzido as barreiras de entrada para desenvolvedores independentes.\n",
    "\n",
    "3. **Crescimento do mercado de jogos independentes (indie)**: Um aumento no número de estúdios independentes e financiamentos alternativos (como Kickstarter) pode ter contribuído para mais lançamentos.\n",
    "\n",
    "4. **Tendências econômicas**: Períodos de crescimento econômico ou mudanças no comportamento dos consumidores podem impulsionar investimentos no setor.\n",
    "\n",
    "Esta informação é valiosa para entender a evolução histórica do mercado e identificar possíveis tendências futuras. Para desenvolvedores, pode indicar o nível de competição existente e ajudar a planejar melhor o momento de lançamento de novos jogos."
   ]
  },
  {
   "cell_type": "markdown",
   "metadata": {},
   "source": [
    "## Pergunta 3: Qual a distribuição de gêneros de jogos por faixa de preço?\n",
    "\n",
    "Esta pergunta adicional foi elaborada para demonstrar a flexibilidade do módulo de análise desenvolvido e fornecer insights valiosos sobre estratégias de precificação por gênero."
   ]
  },
  {
   "cell_type": "code",
   "execution_count": 6,
   "metadata": {},
   "outputs": [
    {
     "name": "stdout",
     "output_type": "stream",
     "text": [
      "\n",
      "== Faixa de preço: Gratuito ==\n",
      "1. Indie: 6400 jogos\n",
      "2. Free to Play: 5550 jogos\n",
      "3. Action: 4157 jogos\n",
      "4. Casual: 3853 jogos\n",
      "5. Adventure: 3453 jogos\n",
      "\n",
      "== Faixa de preço: Até R$10 ==\n",
      "1. Indie: 34319 jogos\n",
      "2. Casual: 21990 jogos\n",
      "3. Action: 18820 jogos\n",
      "4. Adventure: 17274 jogos\n",
      "5. Simulation: 8314 jogos\n",
      "\n",
      "== Faixa de preço: R$10-30 ==\n",
      "1. Indie: 8595 jogos\n",
      "2. Adventure: 5920 jogos\n",
      "3. Action: 5804 jogos\n",
      "4. Simulation: 3373 jogos\n",
      "5. Casual: 3336 jogos\n",
      "\n",
      "== Faixa de preço: R$30-60 ==\n",
      "1. Action: 478 jogos\n",
      "2. Adventure: 410 jogos\n",
      "3. RPG: 314 jogos\n",
      "4. Simulation: 306 jogos\n",
      "5. Strategy: 256 jogos\n",
      "\n",
      "== Faixa de preço: Acima de R$60 ==\n",
      "1. Simulation: 48 jogos\n",
      "2. Design & Illustration: 40 jogos\n",
      "3. Video Production: 38 jogos\n",
      "4. Animation & Modeling: 37 jogos\n",
      "5. Indie: 37 jogos\n"
     ]
    }
   ],
   "source": [
    "# Realiza a análise\n",
    "distribuicao = analisador.analisar_generos_por_faixa_preco()\n",
    "\n",
    "# Exibe os 5 gêneros mais frequentes para cada faixa de preço\n",
    "for faixa, generos in distribuicao.items():\n",
    "    print(f\"\\n== Faixa de preço: {faixa} ==\")\n",
    "    \n",
    "    if not generos:\n",
    "        print(\"Nenhum gênero encontrado nesta faixa.\")\n",
    "        continue\n",
    "        \n",
    "    # Exibe os 5 gêneros mais frequentes\n",
    "    for i, (genero, count) in enumerate(list(generos.items())[:5], 1):\n",
    "        print(f\"{i}. {genero}: {count} jogos\")"
   ]
  },
  {
   "cell_type": "markdown",
   "metadata": {},
   "source": [
    "### Análise dos Resultados\n",
    "\n",
    "A análise da distribuição de gêneros por faixa de preço revela padrões interessantes sobre como diferentes tipos de jogos são precificados no mercado:\n",
    "\n",
    "1. **Jogos Gratuitos**: Os gêneros mais comuns entre jogos gratuitos são Indie.\n",
    "\n",
    "2. **Jogos de Baixo Custo (Até R$10)**: Nesta faixa, ainda predominam os jogos indie, indicando que estes gêneros frequentemente optam por uma estratégia de preço acessível para atrair um público mais amplo.\n",
    "\n",
    "3. **Jogos de Preço Médio (R$10-30)**: Jogos indie permanecem como o gênero mais representados nesta faixa, que constitui um ponto de equilíbrio entre acessibilidade e valor percebido.\n",
    "\n",
    "4. **Jogos Premium (R$30-60)**: Nesta categoria encontramos principalmente jogos de ação.\n",
    "\n",
    "5. **Jogos de Alto Valor (Acima de R$60)**: Os gêneros que predominam na faixa de preço mais alta são os de simulação, provavelmente refletindo produções de grande orçamento (AAA) ou títulos com conteúdo extenso.\n",
    "\n",
    "Estas informações são extremamente valiosas para desenvolvedores e publicadores, pois revelam expectativas de preço estabelecidas no mercado para diferentes gêneros. Conhecer esses padrões pode ajudar na definição de estratégias de precificação competitivas e alinhadas com as expectativas dos consumidores."
   ]
  },
  {
   "cell_type": "markdown",
   "metadata": {},
   "source": [
    "## Verificação com Amostra de Teste\n",
    "\n",
    "Para validar nossa implementação, vamos executar as mesmas análises com a amostra de 20 jogos e verificar se os resultados estão consistentes com nossos cálculos manuais."
   ]
  },
  {
   "cell_type": "code",
   "execution_count": 13,
   "metadata": {},
   "outputs": [
    {
     "name": "stdout",
     "output_type": "stream",
     "text": [
      "Carregando amostra de amostra_jogos.csv...\n",
      "Amostra carregada com sucesso! Total de jogos: 20\n",
      "\n",
      "Pergunta 1 (Amostra):\n",
      "Jogos gratuitos: 20.00%\n",
      "Jogos pagos: 80.00%\n",
      "\n",
      "Pergunta 2 (Amostra):\n",
      "Ano com mais lançamentos: 2022\n",
      "Número de lançamentos: 5\n",
      "\n",
      "Pergunta 3 (Amostra - Gênero mais comum por faixa de preço):\n",
      "Gratuito: Action (1 jogos)\n",
      "Até R$10: Casual (12 jogos)\n",
      "R$10-30: Casual (1 jogos)\n",
      "R$30-60: Nenhum jogo nesta faixa\n",
      "Acima de R$60: Nenhum jogo nesta faixa\n"
     ]
    }
   ],
   "source": [
    "# Carrega a amostra de dados\n",
    "arquivo_amostra = 'amostra_jogos.csv'\n",
    "if os.path.exists(arquivo_amostra):\n",
    "    print(f\"Carregando amostra de {arquivo_amostra}...\")\n",
    "    analisador_amostra = AnalisadorJogos(arquivo_amostra)\n",
    "    print(f\"Amostra carregada com sucesso! Total de jogos: {len(analisador_amostra.dados.jogos)}\")\n",
    "    \n",
    "    # Pergunta 1 (amostra)\n",
    "    percentual_amostra = analisador_amostra.analisar_gratuitos_vs_pagos()\n",
    "    print(\"\\nPergunta 1 (Amostra):\")\n",
    "    print(f\"Jogos gratuitos: {percentual_amostra['gratuitos']:.2f}%\")\n",
    "    print(f\"Jogos pagos: {percentual_amostra['pagos']:.2f}%\")\n",
    "    \n",
    "    # Pergunta 2 (amostra)\n",
    "    anos_amostra, lancamentos_amostra = analisador_amostra.analisar_ano_com_mais_lancamentos()\n",
    "    print(\"\\nPergunta 2 (Amostra):\")\n",
    "    if isinstance(anos_amostra, list):\n",
    "        anos_str = \", \".join(str(ano) for ano in anos_amostra)\n",
    "        print(f\"Anos com mais lançamentos (empate): {anos_str}\")\n",
    "    else:\n",
    "        print(f\"Ano com mais lançamentos: {anos_amostra}\")\n",
    "    print(f\"Número de lançamentos: {lancamentos_amostra}\")\n",
    "    \n",
    "    # Pergunta 3 (amostra - exibindo apenas o gênero mais comum por faixa)\n",
    "    print(\"\\nPergunta 3 (Amostra - Gênero mais comum por faixa de preço):\")\n",
    "    distribuicao_amostra = analisador_amostra.analisar_generos_por_faixa_preco()\n",
    "    for faixa, generos in distribuicao_amostra.items():\n",
    "        if generos:\n",
    "            top_genero = list(generos.items())[0] if generos else None\n",
    "            if top_genero:\n",
    "                print(f\"{faixa}: {top_genero[0]} ({top_genero[1]} jogos)\")\n",
    "        else:\n",
    "            print(f\"{faixa}: Nenhum jogo nesta faixa\")\n",
    "else:\n",
    "    print(f\"Erro: O arquivo de amostra {arquivo_amostra} não foi encontrado.\")"
   ]
  },
  {
   "cell_type": "markdown",
   "metadata": {},
   "source": [
    "### Comparação com Cálculos Manuais\n",
    "\n",
    "Comparando os resultados obtidos da amostra com nossos cálculos manuais prévios:\n",
    "\n",
    "1. **Percentual de jogos gratuitos vs pagos**: \n",
    "   - Cálculo manual: 20% gratuitos, 80% pagos\n",
    "   - Resultado da amostra: 20% gratuitos, 80% pagos\n",
    "\n",
    "2. **Ano com mais lançamentos**:\n",
    "   - Cálculo manual: 2022 com 5 lançamentos\n",
    "   - Resultado da amostra: 2022 com 5 lançamentos\n",
    "\n",
    "3. **Gêneros por faixa de preço**:\n",
    "   - Os gêneros mais comuns em cada faixa correspondem à nossa análise manual\n",
    "\n",
    "Os resultados da análise automatizada estão de acordo com nossos cálculos manuais, o que valida a implementação da biblioteca de análise de dados."
   ]
  },
  {
   "cell_type": "markdown",
   "metadata": {},
   "source": [
    "## Conclusão\n",
    "\n",
    "Nesta análise exploratória dos dados de jogos da Steam, conseguimos responder com sucesso às três perguntas propostas:\n",
    "\n",
    "1. Identificamos a distribuição percentual entre jogos gratuitos e pagos, revelando o balanço entre diferentes modelos de monetização na plataforma.\n",
    "\n",
    "2. Determinamos o ano com maior número de lançamentos, o que nos permite compreender melhor a evolução histórica do mercado de jogos digitais.\n",
    "\n",
    "3. Analisamos a distribuição de gêneros por faixa de preço, obtendo insights valiosos sobre estratégias de precificação e expectativas dos consumidores para diferentes tipos de jogos.\n",
    "\n",
    "A biblioteca desenvolvida demonstrou ser eficaz para extrair e processar informações relevantes do conjunto de dados, oferecendo uma estrutura modular e extensível que pode ser facilmente adaptada para responder a novas perguntas no futuro. O uso de classes e métodos bem definidos facilita a manutenção do código e a implementação de novas funcionalidades. A validação com a amostra de teste confirma a precisão dos cálculos realizados, aumentando a confiabilidade das análises apresentadas."
   ]
  }
 ],
 "metadata": {
  "kernelspec": {
   "display_name": "Python 3",
   "language": "python",
   "name": "python3"
  },
  "language_info": {
   "codemirror_mode": {
    "name": "ipython",
    "version": 3
   },
   "file_extension": ".py",
   "mimetype": "text/x-python",
   "name": "python",
   "nbconvert_exporter": "python",
   "pygments_lexer": "ipython3",
   "version": "3.13.2"
  }
 },
 "nbformat": 4,
 "nbformat_minor": 4
}
