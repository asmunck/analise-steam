{
 "cells": [
  {
   "cell_type": "markdown",
   "metadata": {},
   "source": [
    "# Análise de Jogos da Steam - Fase 2\n",
    "\n",
    "Este notebook contém a análise solicitada na fase 2 do projeto, incluindo:\n",
    "- Pré-processamento dos dados\n",
    "- Respostas às perguntas da empresa\n",
    "- Visualizações solicitadas\n",
    "- Pergunta e visualização adicional"
   ]
  },
  {
   "cell_type": "markdown",
   "metadata": {},
   "source": [
    "## 1. Importações e Configuração"
   ]
  },
  {
   "cell_type": "code",
   "execution_count": 10,
   "metadata": {},
   "outputs": [
    {
     "ename": "ImportError",
     "evalue": "cannot import name 'set_custom_style' from 'src.fase2.visualizacao' (c:\\Users\\flavi\\OneDrive\\Documentos\\GitHub\\puc-trabalhos\\analise-steam\\src\\fase2\\visualizacao.py)",
     "output_type": "error",
     "traceback": [
      "\u001b[31m---------------------------------------------------------------------------\u001b[39m",
      "\u001b[31mImportError\u001b[39m                               Traceback (most recent call last)",
      "\u001b[36mCell\u001b[39m\u001b[36m \u001b[39m\u001b[32mIn[10]\u001b[39m\u001b[32m, line 13\u001b[39m\n\u001b[32m     11\u001b[39m \u001b[38;5;66;03m# Importar funções criadas\u001b[39;00m\n\u001b[32m     12\u001b[39m \u001b[38;5;28;01mfrom\u001b[39;00m\u001b[38;5;250m \u001b[39m\u001b[34;01msrc\u001b[39;00m\u001b[34;01m.\u001b[39;00m\u001b[34;01mfase2\u001b[39;00m\u001b[34;01m.\u001b[39;00m\u001b[34;01mpreprocessamento\u001b[39;00m\u001b[38;5;250m \u001b[39m\u001b[38;5;28;01mimport\u001b[39;00m preprocess_data, save_processed_data\n\u001b[32m---> \u001b[39m\u001b[32m13\u001b[39m \u001b[38;5;28;01mfrom\u001b[39;00m\u001b[38;5;250m \u001b[39m\u001b[34;01msrc\u001b[39;00m\u001b[34;01m.\u001b[39;00m\u001b[34;01mfase2\u001b[39;00m\u001b[34;01m.\u001b[39;00m\u001b[34;01mvisualizacao\u001b[39;00m\u001b[38;5;250m \u001b[39m\u001b[38;5;28;01mimport\u001b[39;00m set_custom_style, plot_os_support\n\u001b[32m     15\u001b[39m \u001b[38;5;66;03m# Configurar o estilo personalizado para os gráficos\u001b[39;00m\n\u001b[32m     16\u001b[39m colors = set_custom_style()\n",
      "\u001b[31mImportError\u001b[39m: cannot import name 'set_custom_style' from 'src.fase2.visualizacao' (c:\\Users\\flavi\\OneDrive\\Documentos\\GitHub\\puc-trabalhos\\analise-steam\\src\\fase2\\visualizacao.py)"
     ]
    }
   ],
   "source": [
    "import pandas as pd\n",
    "import numpy as np\n",
    "import matplotlib.pyplot as plt\n",
    "import seaborn as sns\n",
    "import sys\n",
    "import os\n",
    "\n",
    "# Adicionar o diretório raiz ao path para importar os módulos\n",
    "sys.path.append(os.path.abspath('../..'))\n",
    "\n",
    "# Importar funções criadas\n",
    "from src.fase2.preprocessamento import preprocess_data, save_processed_data\n",
    "from src.fase2.visualizacao import set_custom_style, plot_os_support\n",
    "\n",
    "# Configurar o estilo personalizado para os gráficos\n",
    "colors = set_custom_style()\n",
    "\n",
    "# Configurações de exibição do pandas\n",
    "pd.set_option('display.max_columns', None)\n",
    "pd.set_option('display.max_rows', 20)\n",
    "pd.set_option('display.width', 1000)"
   ]
  },
  {
   "cell_type": "markdown",
   "metadata": {},
   "source": [
    "## 2. Carregamento e Pré-processamento dos Dados"
   ]
  },
  {
   "cell_type": "code",
   "execution_count": null,
   "metadata": {},
   "outputs": [],
   "source": [
    "# Caminho para o arquivo de dados\n",
    "data_path = '../../data/raw/steam_games.csv'\n",
    "\n",
    "# Carregar os dados\n",
    "df_raw = pd.read_csv(data_path)\n",
    "\n",
    "# Exibir informações básicas sobre os dados\n",
    "print(f\"Quantidade de registros: {df_raw.shape[0]}\")\n",
    "print(f\"Quantidade de colunas: {df_raw.shape[1]}\")\n",
    "\n",
    "# Visualizar as primeiras linhas\n",
    "df_raw.head()"
   ]
  },
  {
   "cell_type": "code",
   "execution_count": null,
   "metadata": {},
   "outputs": [],
   "source": [
    "# Pré-processar os dados\n",
    "df = preprocess_data(df_raw)\n",
    "\n",
    "# Salvar os dados processados\n",
    "save_processed_data(df)\n",
    "\n",
    "# Verificar as transformações\n",
    "df.head()"
   ]
  },
  {
   "cell_type": "markdown",
   "metadata": {},
   "source": [
    "## 3. Resposta às Perguntas da Empresa"
   ]
  },
  {
   "cell_type": "markdown",
   "metadata": {},
   "source": [
    "### Pergunta 1: Os dez jogos mais bem avaliados pelo Metacritic"
   ]
  },
  {
   "cell_type": "code",
   "execution_count": null,
   "metadata": {},
   "outputs": [],
   "source": [
    "# Filtrar para jogos com pontuação Metacritic válida\n",
    "metacritic_df = df.dropna(subset=['metacritic_score'])\n",
    "\n",
    "# Ordenar por pontuação (decrescente) e data de lançamento (crescente)\n",
    "top_games = metacritic_df.sort_values(['metacritic_score', 'release_date'], \n",
    "                                      ascending=[False, True]).head(10)\n",
    "\n",
    "# Selecionar apenas as colunas relevantes\n",
    "top_games_display = top_games[['name', 'metacritic_score', 'release_date']]\n",
    "\n",
    "print(\"Os dez jogos mais bem avaliados de acordo com o Metacritic:\")\n",
    "top_games_display"
   ]
  },
  {
   "cell_type": "markdown",
   "metadata": {},
   "source": [
    "### Pergunta 2: Estatísticas para jogos de role-playing"
   ]
  },
  {
   "cell_type": "code",
   "execution_count": null,
   "metadata": {},
   "outputs": [],
   "source": [
    "# Filtrar jogos de RPG\n",
    "rpg_games = df[df['genres'].str.contains('RPG|role-playing', case=False, na=False)]\n",
    "\n",
    "# Calcular estatísticas\n",
    "rpg_stats = {\n",
    "    'Número de jogos': len(rpg_games),\n",
    "    'DLCs - Média': rpg_games['dlc_count'].mean(),\n",
    "    'DLCs - Máximo': rpg_games['dlc_count'].max(),\n",
    "    'Avaliações Positivas - Média': rpg_games['positive'].mean(),\n",
    "    'Avaliações Positivas - Máximo': rpg_games['positive'].max(),\n",
    "    'Avaliações Negativas - Média': rpg_games['negative'].mean(),\n",
    "    'Avaliações Negativas - Máximo': rpg_games['negative'].max(),\n",
    "    'Material de Demonstração - Média': rpg_games['demo_material'].mean(),\n",
    "    'Material de Demonstração - Máximo': rpg_games['demo_material'].max()\n",
    "}\n",
    "\n",
    "# Criar DataFrame para exibição\n",
    "rpg_stats_df = pd.DataFrame(rpg_stats.items(), columns=['Estatística', 'Valor'])\n",
    "rpg_stats_df"
   ]
  },
  {
   "cell_type": "markdown",
   "metadata": {},
   "source": [
    "### Pergunta 3: As cinco empresas que mais publicam jogos pagos"
   ]
  },
  {
   "cell_type": "code",
   "execution_count": null,
   "metadata": {},
   "outputs": [],
   "source": [
    "# Filtrar jogos pagos\n",
    "paid_games = df[df['is_paid'] == True]\n",
    "\n",
    "# Contar número de jogos pagos por empresa\n",
    "top_publishers = paid_games['publisher'].value_counts().reset_index()\n",
    "top_publishers.columns = ['Publisher', 'Número de Jogos Pagos']\n",
    "top_publishers = top_publishers.head(5)\n",
    "\n",
    "# Calcular estatísticas de avaliações positivas\n",
    "publisher_stats = []\n",
    "\n",
    "for publisher in top_publishers['Publisher']:\n",
    "    publisher_games = paid_games[paid_games['publisher'] == publisher]\n",
    "    \n",
    "    stats = {\n",
    "        'Publisher': publisher,\n",
    "        'Número de Jogos': len(publisher_games),\n",
    "        'Avaliações Positivas - Média': publisher_games['positive'].mean(),\n",
    "        'Avaliações Positivas - Mediana': publisher_games['positive'].median()\n",
    "    }\n",
    "    \n",
    "    publisher_stats.append(stats)\n",
    "\n",
    "# Criar DataFrame para exibição\n",
    "publisher_stats_df = pd.DataFrame(publisher_stats)\n",
    "publisher_stats_df"
   ]
  },
  {
   "cell_type": "markdown",
   "metadata": {},
   "source": [
    "### Pergunta 4: Crescimento de jogos com suporte Linux entre 2018 e 2022"
   ]
  },
  {
   "cell_type": "code",
   "execution_count": null,
   "metadata": {},
   "outputs": [],
   "source": [
    "# Filtrar jogos lançados entre 2018 e 2022\n",
    "linux_trend = df[(df['release_year'] >= 2018) & (df['release_year'] <= 2022)]\n",
    "\n",
    "# Agrupar por ano e contar jogos com suporte Linux\n",
    "linux_by_year = linux_trend.groupby('release_year')['supports_linux'].agg(['sum', 'count']).reset_index()\n",
    "linux_by_year['percentage'] = (linux_by_year['sum'] / linux_by_year['count']) * 100\n",
    "linux_by_year.columns = ['Ano', 'Jogos com Linux', 'Total de Jogos', 'Percentual (%)']\n",
    "\n",
    "# Visualizar os resultados\n",
    "linux_by_year"
   ]
  },
  {
   "cell_type": "markdown",
   "metadata": {},
   "source": [
    "## 4. Visualizações Solicitadas"
   ]
  },
  {
   "cell_type": "markdown",
   "metadata": {},
   "source": [
    "### Gráfico 1: Percentual de jogos por sistema operacional"
   ]
  },
  {
   "cell_type": "code",
   "execution_count": null,
   "metadata": {},
   "outputs": [],
   "source": [
    "# Gerar o gráfico usando a função criada\n",
    "os_plot = plot_os_support(df)\n",
    "plt.show()"
   ]
  },
  {
   "cell_type": "markdown",
   "metadata": {},
   "source": [
    "### Gráfico 2: Jogos single-player do gênero Indie e estratégia por ano (2010-2020)"
   ]
  },
  {
   "cell_type": "code",
   "execution_count": null,
   "metadata": {},
   "outputs": [],
   "source": [
    "# Filtrar jogos entre 2010 e 2020\n",
    "time_range = df[(df['release_year'] >= 2010) & (df['release_year'] <= 2020)]\n",
    "\n",
    "# Filtrar jogos single-player\n",
    "single_player = time_range[time_range['categories'].str.contains('Single-player', case=False, na=False)]\n",
    "\n",
    "# Filtrar jogos de cada gênero\n",
    "indie_games = single_player[single_player['genres'].str.contains('Indie', case=False, na=False)]\n",
    "strategy_games = single_player[single_player['genres'].str.contains('Strategy', case=False, na=False)]\n",
    "\n",
    "# Contar por ano\n",
    "indie_by_year = indie_games.groupby('release_year').size()\n",
    "strategy_by_year = strategy_games.groupby('release_year').size()\n",
    "\n",
    "# Criar figura\n",
    "plt.figure(figsize=(12, 8))\n",
    "\n",
    "# Plotar linhas\n",
    "plt.plot(indie_by_year.index, indie_by_year.values, 'o-', linewidth=2, markersize=8, color=colors[0], label='Indie')\n",
    "plt.plot(strategy_by_year.index, strategy_by_year.values, 's-', linewidth=2, markersize=8, color=colors[2], label='Strategy')\n",
    "\n",
    "# Adicionar elementos visuais\n",
    "plt.title('Número de Jogos Single-Player por Gênero (2010-2020)')\n",
    "plt.xlabel('Ano de Lançamento')\n",
    "plt.ylabel('Número de Jogos')\n",
    "plt.grid(True, linestyle='--', alpha=0.7)\n",
    "plt.legend(fontsize=12)\n",
    "\n",
    "# Configurar eixo x\n",
    "plt.xticks(range(2010, 2021))\n",
    "\n",
    "plt.tight_layout()\n",
    "plt.show()"
   ]
  },
  {
   "cell_type": "markdown",
   "metadata": {},
   "source": [
    "## 5. Pergunta e Visualização Adicional"
   ]
  },
  {
   "cell_type": "markdown",
   "metadata": {},
   "source": [
    "### Pergunta Adicional: Qual a relação entre preço e avaliações positivas para os principais gêneros de jogos?"
   ]
  },
  {
   "cell_type": "code",
   "execution_count": null,
   "metadata": {},
   "outputs": [],
   "source": [
    "# Identificar os 5 gêneros mais populares\n",
    "genre_counts = {}\n",
    "for genres in df['genres_list']:\n",
    "    for genre in genres:\n",
    "        if genre in genre_counts:\n",
    "            genre_counts[genre] += 1\n",
    "        else:\n",
    "            genre_counts[genre] = 1\n",
    "\n",
    "# Obter os 5 principais gêneros\n",
    "top_genres = sorted(genre_counts.items(), key=lambda x: x[1], reverse=True)[:5]\n",
    "top_genre_names = [genre[0] for genre in top_genres]\n",
    "\n",
    "# Filtrar jogos dos principais gêneros e com preço e avaliações válidos\n",
    "valid_games = df.dropna(subset=['price', 'positive'])\n",
    "valid_games = valid_games[valid_games['price'] <= 100]  # Remover outliers de preço\n",
    "\n",
    "# Preparar dados para visualização\n",
    "plot_data = []\n",
    "for genre in top_genre_names:\n",
    "    genre_games = valid_games[valid_games['genres'].str.contains(genre, case=False, na=False)]\n",
    "    genre_data = genre_games[['name', 'price', 'positive', 'release_year']].copy()\n",
    "    genre_data['genre'] = genre\n",
    "    plot_data.append(genre_data)\n",
    "\n",
    "# Combinar em um único DataFrame\n",
    "plot_df = pd.concat(plot_data)\n",
    "\n",
    "# Criar visualização\n",
    "plt.figure(figsize=(14, 10))\n",
    "\n",
    "for i, genre in enumerate(top_genre_names):\n",
    "    genre_data = plot_df[plot_df['genre'] == genre]\n",
    "    plt.scatter(genre_data['price'], \n",
    "                genre_data['positive'], \n",
    "                alpha=0.6, \n",
    "                s=80, \n",
    "                c=[colors[i % len(colors)]], \n",
    "                label=genre)\n",
    "\n",
    "plt.xscale('log')  # Escala logarítmica para preço\n",
    "plt.yscale('log')  # Escala logarítmica para avaliações\n",
    "\n",
    "plt.title('Relação entre Preço e Avaliações Positivas por Gênero')\n",
    "plt.xlabel('Preço (USD) - Escala Logarítmica')\n",
    "plt.ylabel('Número de Avaliações Positivas - Escala Logarítmica')\n",
    "plt.grid(True, alpha=0.3)\n",
    "plt.legend(title='Gênero')\n",
    "\n",
    "plt.tight_layout()\n",
    "plt.show()"
   ]
  },
  {
   "cell_type": "markdown",
   "metadata": {},
   "source": [
    "## 6. Conclusão\n",
    "\n",
    "Neste notebook, realizamos uma análise completa do conjunto de dados de jogos da Steam, respondendo a diversas perguntas de negócio e criando visualizações informativas. As análises revelaram padrões interessantes sobre avaliações de jogos, gêneros populares, suporte a sistemas operacionais e tendências ao longo do tempo."
   ]
  }
 ],
 "metadata": {
  "kernelspec": {
   "display_name": "Python 3",
   "language": "python",
   "name": "python3"
  },
  "language_info": {
   "codemirror_mode": {
    "name": "ipython",
    "version": 3
   },
   "file_extension": ".py",
   "mimetype": "text/x-python",
   "name": "python",
   "nbconvert_exporter": "python",
   "pygments_lexer": "ipython3",
   "version": "3.13.2"
  }
 },
 "nbformat": 4,
 "nbformat_minor": 4
}
